{
  "cells": [
    {
      "cell_type": "code",
      "execution_count": 13,
      "metadata": {
        "id": "ba-iFDyl07Ln"
      },
      "outputs": [],
      "source": [
        "!pip install -q streamlit"
      ]
    },
    {
      "cell_type": "code",
      "execution_count": 14,
      "metadata": {
        "colab": {
          "base_uri": "https://localhost:8080/"
        },
        "id": "j21kGYG308lu",
        "outputId": "56ced805-01c1-452b-fc00-d710c25d0495"
      },
      "outputs": [
        {
          "name": "stdout",
          "output_type": "stream",
          "text": [
            "\u001b[K\u001b[?25h\u001b[37;40mnpm\u001b[0m \u001b[0m\u001b[30;43mWARN\u001b[0m \u001b[0m\u001b[35msaveError\u001b[0m ENOENT: no such file or directory, open '/content/package.json'\n",
            "\u001b[0m\u001b[37;40mnpm\u001b[0m \u001b[0m\u001b[30;43mWARN\u001b[0m \u001b[0m\u001b[35menoent\u001b[0m ENOENT: no such file or directory, open '/content/package.json'\n",
            "\u001b[0m\u001b[37;40mnpm\u001b[0m \u001b[0m\u001b[30;43mWARN\u001b[0m\u001b[35m\u001b[0m content No description\n",
            "\u001b[0m\u001b[37;40mnpm\u001b[0m \u001b[0m\u001b[30;43mWARN\u001b[0m\u001b[35m\u001b[0m content No repository field.\n",
            "\u001b[0m\u001b[37;40mnpm\u001b[0m \u001b[0m\u001b[30;43mWARN\u001b[0m\u001b[35m\u001b[0m content No README data\n",
            "\u001b[0m\u001b[37;40mnpm\u001b[0m \u001b[0m\u001b[30;43mWARN\u001b[0m\u001b[35m\u001b[0m content No license field.\n",
            "\u001b[0m\n",
            "+ localtunnel@2.0.2\n",
            "updated 1 package and audited 36 packages in 0.742s\n",
            "\n",
            "3 packages are looking for funding\n",
            "  run `npm fund` for details\n",
            "\n",
            "found 2 \u001b[93mmoderate\u001b[0m severity vulnerabilities\n",
            "  run `npm audit fix` to fix them, or `npm audit` for details\n",
            "\u001b[K\u001b[?25h"
          ]
        }
      ],
      "source": [
        "!npm install localtunnel"
      ]
    },
    {
      "cell_type": "code",
      "execution_count": 15,
      "metadata": {
        "colab": {
          "base_uri": "https://localhost:8080/"
        },
        "id": "Dr0OfZmF1JdF",
        "outputId": "75024d08-b46b-42e7-dca5-ee49fd22fa6e"
      },
      "outputs": [
        {
          "name": "stdout",
          "output_type": "stream",
          "text": [
            "Reading package lists... Done\n",
            "Building dependency tree... Done\n",
            "Reading state information... Done\n",
            "timidity is already the newest version (2.14.0-8ubuntu1.22.04.1).\n",
            "0 upgraded, 0 newly installed, 0 to remove and 45 not upgraded.\n"
          ]
        }
      ],
      "source": [
        "!sudo apt-get install timidity"
      ]
    },
    {
      "cell_type": "code",
      "execution_count": 21,
      "metadata": {
        "colab": {
          "base_uri": "https://localhost:8080/"
        },
        "id": "kKRJSKux1MAY",
        "outputId": "70d8e0b2-85a6-4956-a795-d001a5cb5e8a"
      },
      "outputs": [
        {
          "name": "stdout",
          "output_type": "stream",
          "text": [
            "Overwriting app.py\n"
          ]
        }
      ],
      "source": [
        "%%writefile app.py\n",
        "import os\n",
        "import subprocess\n",
        "import streamlit as st\n",
        "import numpy as np\n",
        "import tensorflow_hub as hub\n",
        "import csv\n",
        "from gensim.models import KeyedVectors\n",
        "import tensorflow as tf\n",
        "from tensorflow.keras.models import load_model\n",
        "from scipy.io import wavfile\n",
        "import scipy\n",
        "from utilities import *\n",
        "\n",
        "def main():\n",
        "    st.title(\"Music Genre Classification with MIDI Embeddings\")\n",
        "\n",
        "    st.write(\"Upload your MIDI file:\")\n",
        "    uploaded_file = st.file_uploader(\"Choose a MIDI file\", type=[\"mid\", \"midi\"])\n",
        "\n",
        "    if uploaded_file is not None:\n",
        "        # Save the uploaded MIDI file to disk\n",
        "        midi_path = \"uploaded_midi.mid\"\n",
        "        with open(midi_path, \"wb\") as f:\n",
        "            f.write(uploaded_file.getvalue())\n",
        "\n",
        "        # Convert MIDI to WAV\n",
        "        converted_file = midi_path.replace(\".mid\", \".wav\")\n",
        "        convert_midi_to_wav(midi_path, converted_file)\n",
        "        music_present = detect_music_presence(converted_file)\n",
        "        if os.path.exists(converted_file):\n",
        "            if music_present:\n",
        "                st.write(\"Music present. Predicting genre...\")\n",
        "                # Load the genre prediction model\n",
        "                model_path = \".../birnn1.h5\"\n",
        "                embeddings = generate_embeddings(midi_path, uploaded_file.name)\n",
        "                if embeddings is not None:\n",
        "                    prediction = predict_genre(embeddings, model_path)\n",
        "                    if prediction is not None:\n",
        "                        st.write(\"Prediction:\", prediction)\n",
        "                        st.success(\"Prediction made successfully!\")\n",
        "            else:\n",
        "                st.write(\"No music detected.\")\n",
        "        else:\n",
        "            st.error(\"Failed to convert MIDI to WAV.\")\n",
        "\n",
        "if __name__ == \"__main__\":\n",
        "    main()"
      ]
    },
    {
      "cell_type": "code",
      "execution_count": 23,
      "metadata": {
        "colab": {
          "base_uri": "https://localhost:8080/"
        },
        "id": "-JuvZxVy1bJT",
        "outputId": "e6c54f47-3fa5-42d0-a137-fa8b89445aa5"
      },
      "outputs": [
        {
          "name": "stdout",
          "output_type": "stream",
          "text": [
            "34.106.130.179\n",
            "\u001b[K\u001b[?25hnpx: installed 22 in 2.215s\n",
            "your url is: https://pretty-carrots-vanish.loca.lt\n"
          ]
        }
      ],
      "source": [
        "!streamlit run app.py &>/content/logs.txt & npx localtunnel --port 8501 & curl ipv4.icanhazip.com"
      ]
    },
    {
      "cell_type": "code",
      "execution_count": null,
      "metadata": {
        "id": "wLtmUJ6T1eGw"
      },
      "outputs": [],
      "source": []
    }
  ],
  "metadata": {
    "colab": {
      "provenance": []
    },
    "kernelspec": {
      "display_name": "Python 3",
      "name": "python3"
    },
    "language_info": {
      "name": "python"
    }
  },
  "nbformat": 4,
  "nbformat_minor": 0
}
